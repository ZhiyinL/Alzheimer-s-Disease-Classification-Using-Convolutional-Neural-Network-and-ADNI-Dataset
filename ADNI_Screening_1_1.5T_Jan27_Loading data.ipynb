{
 "cells": [
  {
   "cell_type": "code",
   "execution_count": 20,
   "metadata": {},
   "outputs": [],
   "source": [
    "import csv\n",
    "from scipy import ndimage\n",
    "from scipy import linalg\n",
    "import numpy as np\n",
    "import nibabel as nib\n",
    "import os\n",
    "import glob\n",
    "import pandas as pd\n",
    "import matplotlib.pyplot as plt\n",
    "from operator import itemgetter\n",
    "import pickle"
   ]
  },
  {
   "cell_type": "code",
   "execution_count": 21,
   "metadata": {},
   "outputs": [],
   "source": [
    "#loading images \n",
    "cwd = os.getcwd()\n",
    "patient_id_AD = os.listdir('GRAY_Jan27/GRAY/AD')\n",
    "patient_id_MCI = os.listdir('GRAY_Jan27/GRAY/MCI')\n",
    "patient_id_CN = os.listdir('GRAY_Jan27/GRAY/CN')"
   ]
  },
  {
   "cell_type": "code",
   "execution_count": 24,
   "metadata": {
    "scrolled": false
   },
   "outputs": [],
   "source": [
    "#Gaining sMRI        \n",
    "#datapath: obtain the path to reach each patient's sMRI \n",
    "datapath_AD = [] #[patient_id, path]\n",
    "datapath_CN = []\n",
    "datapath_MCI = []\n",
    "for patient in patient_id_AD:\n",
    "    datapath_AD.append([patient, \"GRAY_Jan27/GRAY/AD/\" + patient])\n",
    "for patient in patient_id_CN:\n",
    "    datapath_CN.append([patient, \"GRAY_Jan27/GRAY/CN/\" + patient])              \n",
    "for patient in patient_id_MCI:\n",
    "    datapath_MCI.append([patient, \"GRAY_Jan27/GRAY/MCI/\" + patient])"
   ]
  },
  {
   "cell_type": "code",
   "execution_count": 25,
   "metadata": {},
   "outputs": [],
   "source": [
    "import scipy.misc\n",
    "\n",
    "dataimage_AD = []#[patient_id, image_matrix_normalized]\n",
    "slice_AD = []\n",
    "dataimage_CN = []\n",
    "slice_CN = []\n",
    "dataimage_MCI = []\n",
    "slice_MCI = []\n",
    "tar_dim = [121, 121]\n",
    "for patient in patient_id_AD:\n",
    "    mri = nib.load(\"GRAY_Jan27/GRAY/AD/\" + patient).get_data()\n",
    "    mri = (mri - mri.min())/(mri.max() - mri.min())\n",
    "    mri = mri - mri.mean()\n",
    "    dataimage_AD.append(mri)\n",
    "    slice = np.zeros((3, 121, 121))   \n",
    "    slice[0,:,:] = ndimage.zoom(mri[57,:,:],[tar_dim[0]/mri[57,:,:].shape[0],tar_dim[1]/mri[57,:,:].shape[1]], order = 1)\n",
    "    slice[1,:,:] = mri[:,79,:]\n",
    "    slice[2,:,:] = ndimage.zoom(mri[:,:,78],[tar_dim[0]/mri[:,:,78].shape[0],tar_dim[1]/mri[:,:,78].shape[1]], order = 1)\n",
    "    slice_AD.append(slice)\n",
    "\n",
    "for patient in patient_id_CN:\n",
    "    mri = nib.load(\"GRAY_Jan27/GRAY/CN/\" + patient).get_data()\n",
    "    mri = (mri - mri.min())/(mri.max() - mri.min())\n",
    "    mri = mri - mri.mean()\n",
    "    dataimage_CN.append(mri)\n",
    "    slice = np.zeros((3, 121, 121))  \n",
    "    slice[0,:,:] = ndimage.zoom(mri[78,:,:],[tar_dim[0]/mri[57,:,:].shape[0],tar_dim[1]/mri[57,:,:].shape[1]], order = 1)\n",
    "    slice[1,:,:] = mri[:,79,:]\n",
    "    slice[2,:,:] = ndimage.zoom(mri[:,:,57],[tar_dim[0]/mri[:,:,78].shape[0],tar_dim[1]/mri[:,:,78].shape[1]], order = 1)\n",
    "    slice_CN.append(slice)\n",
    "\n",
    "for patient in patient_id_MCI:\n",
    "    mri = nib.load(\"GRAY_Jan27/GRAY/MCI/\" + patient).get_data()\n",
    "    mri = (mri - mri.min())/(mri.max() - mri.min())\n",
    "    mri = mri - mri.mean()\n",
    "    dataimage_MCI.append(mri)\n",
    "    slice = np.zeros((3, 121, 121))\n",
    "    slice[0,:,:] = ndimage.zoom(mri[78,:,:],[tar_dim[0]/mri[57,:,:].shape[0],tar_dim[1]/mri[57,:,:].shape[1]], order = 1)\n",
    "    slice[1,:,:] = mri[:,79,:]\n",
    "    slice[2,:,:] = ndimage.zoom(mri[:,:,57],[tar_dim[0]/mri[:,:,78].shape[0],tar_dim[1]/mri[:,:,78].shape[1]], order = 1)\n",
    "    slice_MCI.append(slice)"
   ]
  },
  {
   "cell_type": "code",
   "execution_count": 27,
   "metadata": {},
   "outputs": [],
   "source": [
    "slice_AD_CN_MCI = []\n",
    "for im in slice_AD:\n",
    "    slice_AD_CN_MCI.append(im)\n",
    "for im in slice_CN:\n",
    "    slice_AD_CN_MCI.append(im)\n",
    "for im in slice_MCI:\n",
    "    slice_AD_CN_MCI.append(im)"
   ]
  },
  {
   "cell_type": "code",
   "execution_count": 11,
   "metadata": {},
   "outputs": [],
   "source": [
    "np.save(\"GRAY_AD_CN_MCI_Jan27.npy\", slice_AD_CN_MCI)"
   ]
  }
 ],
 "metadata": {
  "kernelspec": {
   "display_name": "Python 3",
   "language": "python",
   "name": "python3"
  },
  "language_info": {
   "codemirror_mode": {
    "name": "ipython",
    "version": 3
   },
   "file_extension": ".py",
   "mimetype": "text/x-python",
   "name": "python",
   "nbconvert_exporter": "python",
   "pygments_lexer": "ipython3",
   "version": "3.6.5"
  }
 },
 "nbformat": 4,
 "nbformat_minor": 2
}
