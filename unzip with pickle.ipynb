{
 "cells": [
  {
   "cell_type": "code",
   "execution_count": 1,
   "metadata": {},
   "outputs": [
    {
     "name": "stdout",
     "output_type": "stream",
     "text": [
      "finish unzipping\n"
     ]
    }
   ],
   "source": [
    "import zipfile\n",
    "import pickle\n",
    "path_to_zip_file = \"GRAY.zip\"\n",
    "directory_to_extract_to = \"./GRAY_Jan27\"\n",
    "zip_ref = zipfile.ZipFile(path_to_zip_file, 'r')\n",
    "zip_ref.extractall(directory_to_extract_to)\n",
    "zip_ref.close()\n",
    "print(\"finish unzipping\")"
   ]
  },
  {
   "cell_type": "code",
   "execution_count": null,
   "metadata": {},
   "outputs": [],
   "source": [
    "#with open(\"ADNI1_Complete_1Yr_1.5T(2).txt\", \"wb\") as fp:\n",
    "    #pickle.dump(zip_ref, fp)"
   ]
  },
  {
   "cell_type": "code",
   "execution_count": null,
   "metadata": {},
   "outputs": [],
   "source": []
  },
  {
   "cell_type": "code",
   "execution_count": null,
   "metadata": {},
   "outputs": [],
   "source": []
  }
 ],
 "metadata": {
  "kernelspec": {
   "display_name": "Python 3",
   "language": "python",
   "name": "python3"
  },
  "language_info": {
   "codemirror_mode": {
    "name": "ipython",
    "version": 3
   },
   "file_extension": ".py",
   "mimetype": "text/x-python",
   "name": "python",
   "nbconvert_exporter": "python",
   "pygments_lexer": "ipython3",
   "version": "3.6.5"
  }
 },
 "nbformat": 4,
 "nbformat_minor": 2
}
