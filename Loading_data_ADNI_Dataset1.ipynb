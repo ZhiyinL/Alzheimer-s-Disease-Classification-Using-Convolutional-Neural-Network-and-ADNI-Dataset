{
 "cells": [
  {
   "cell_type": "code",
   "execution_count": 4,
   "metadata": {},
   "outputs": [],
   "source": [
    "import csv\n",
    "from scipy import ndimage\n",
    "from scipy import linalg\n",
    "import numpy as np\n",
    "import nibabel as nib\n",
    "import os\n",
    "import glob\n",
    "import pandas as pd\n",
    "import matplotlib.pyplot as plt\n",
    "from operator import itemgetter\n",
    "import pickle"
   ]
  },
  {
   "cell_type": "code",
   "execution_count": 14,
   "metadata": {},
   "outputs": [
    {
     "name": "stdout",
     "output_type": "stream",
     "text": [
      "[['136_S_1227', '/home/ubuntu/working/ADNI/136_S_1227/MPR____N3__Scaled/2007-02-21_13_12_42.0/S26837/ADNI_136_S_1227_MR_MPR____N3__Scaled_Br_20070810000731580_S26837_I66824.nii'], ['002_S_1018', '/home/ubuntu/working/ADNI/002_S_1018/MPR____N3__Scaled/2007-12-07_18_28_23.0/S43496/ADNI_002_S_1018_MR_MPR____N3__Scaled_Br_20080313095739932_S43496_I97022.nii'], ['127_S_0260', '/home/ubuntu/working/ADNI/127_S_0260/MPR__GradWarp__B1_Correction__N3__Scaled/2007-05-08_13_08_10.0/S31931/ADNI_127_S_0260_MR_MPR__GradWarp__B1_Correction__N3__Scaled_Br_20070731195531372_S31931_I63565.nii'], ['023_S_0061', '/home/ubuntu/working/ADNI/023_S_0061/MPR__GradWarp__B1_Correction__N3__Scaled/2006-06-15_13_13_25.0/S15579/ADNI_023_S_0061_MR_MPR__GradWarp__B1_Correction__N3__Scaled_Br_20070804141852672_S15579_I64681.nii'], ['031_S_1209', '/home/ubuntu/working/ADNI/031_S_1209/MPR__GradWarp__B1_Correction__N3__Scaled/2008-02-08_13_06_55.0/S45594/ADNI_031_S_1209_MR_MPR__GradWarp__B1_Correction__N3__Scaled_Br_20080224135211107_S45594_I92205.nii'], ['027_S_0403', '/home/ubuntu/working/ADNI/027_S_0403/MPR__GradWarp__B1_Correction__N3__Scaled/2007-05-14_14_09_53.0/S32184/ADNI_027_S_0403_MR_MPR__GradWarp__B1_Correction__N3__Scaled_Br_20070813143207736_S32184_I67380.nii'], ['027_S_0404', '/home/ubuntu/working/ADNI/027_S_0404/MPR__GradWarp__B1_Correction__N3__Scaled/2006-11-22_13_12_21.0/S22840/ADNI_027_S_0404_MR_MPR__GradWarp__B1_Correction__N3__Scaled_Br_20070330090919362_S22840_I47545.nii'], ['023_S_0331', '/home/ubuntu/working/ADNI/023_S_0331/MPR__GradWarp__B1_Correction__N3__Scaled/2006-10-03_14_50_22.0/S19679/ADNI_023_S_0331_MR_MPR__GradWarp__B1_Correction__N3__Scaled_Br_20071115091731894_S19679_I82171.nii'], ['128_S_1088', '/home/ubuntu/working/ADNI/128_S_1088/MPR__GradWarp__B1_Correction__N3__Scaled/2007-07-18_15_27_09.0/S35267/ADNI_128_S_1088_MR_MPR__GradWarp__B1_Correction__N3__Scaled_Br_20090313113133314_S35267_I138858.nii'], ['023_S_0916', '/home/ubuntu/working/ADNI/023_S_0916/MPR__GradWarp__B1_Correction__N3__Scaled/2007-09-28_12_32_33.0/S40736/ADNI_023_S_0916_MR_MPR__GradWarp__B1_Correction__N3__Scaled_Br_20071101155340047_S40736_I80152.nii'], ['051_S_1131', '/home/ubuntu/working/ADNI/051_S_1131/MPR__GradWarp__B1_Correction__N3__Scaled/2008-02-05_14_10_14.0/S45357/ADNI_051_S_1131_MR_MPR__GradWarp__B1_Correction__N3__Scaled_Br_20080223163614668_S45357_I91833.nii'], ['002_S_1280', '/home/ubuntu/working/ADNI/002_S_1280/MPR____N3__Scaled/2007-02-27_09_41_57.0/S27230/ADNI_002_S_1280_MR_MPR____N3__Scaled_Br_20070808154151968_S27230_I65874.nii'], ['136_S_0426', '/home/ubuntu/working/ADNI/136_S_0426/MPR____N3__Scaled_2/2006-05-30_10_46_09.0/S15017/ADNI_136_S_0426_MR_MPR____N3__Scaled_2_Br_20081008134424912_S15017_I119731.nii'], ['130_S_1337', '/home/ubuntu/working/ADNI/130_S_1337/MPR____N3__Scaled/2007-03-22_10_29_06.0/S28790/ADNI_130_S_1337_MR_MPR____N3__Scaled_Br_20070807124026176_S28790_I65520.nii'], ['018_S_0450', '/home/ubuntu/working/ADNI/018_S_0450/MPR____N3__Scaled/2006-06-23_15_21_55.0/S15825/ADNI_018_S_0450_MR_MPR____N3__Scaled_Br_20070101221702956_S15825_I35029.nii'], ['016_S_0769', '/home/ubuntu/working/ADNI/016_S_0769/MPR__GradWarp__B1_Correction__N3__Scaled/2006-08-24_14_39_01.0/S18541/ADNI_016_S_0769_MR_MPR__GradWarp__B1_Correction__N3__Scaled_Br_20090311145050344_S18541_I138391.nii'], ['067_S_0607', '/home/ubuntu/working/ADNI/067_S_0607/MPR__GradWarp__B1_Correction__N3__Scaled/2006-08-18_10_24_25.0/S18034/ADNI_067_S_0607_MR_MPR__GradWarp__B1_Correction__N3__Scaled_Br_20061229190754863_S18034_I34866.nii'], ['031_S_0830', '/home/ubuntu/working/ADNI/031_S_0830/MPR__GradWarp__B1_Correction__N3__Scaled/2007-09-17_12_58_18.0/S39458/ADNI_031_S_0830_MR_MPR__GradWarp__B1_Correction__N3__Scaled_Br_20080225100608090_S39458_I92444.nii'], ['023_S_0078', '/home/ubuntu/working/ADNI/023_S_0078/MPR__GradWarp__B1_Correction__N3__Scaled/2007-01-11_12_35_51.0/S24992/ADNI_023_S_0078_MR_MPR__GradWarp__B1_Correction__N3__Scaled_Br_20070427191029151_S24992_I52013.nii'], ['023_S_0625', '/home/ubuntu/working/ADNI/023_S_0625/MPR__GradWarp__B1_Correction__N3__Scaled/2007-07-16_12_27_22.0/S35062/ADNI_023_S_0625_MR_MPR__GradWarp__B1_Correction__N3__Scaled_Br_20070913154835134_S35062_I73073.nii'], ['051_S_1123', '/home/ubuntu/working/ADNI/051_S_1123/MPR__GradWarp__B1_Correction__N3__Scaled/2007-02-06_12_14_26.0/S25973/ADNI_051_S_1123_MR_MPR__GradWarp__B1_Correction__N3__Scaled_Br_20070628171146730_S25973_I58054.nii'], ['130_S_0886', '/home/ubuntu/working/ADNI/130_S_0886/MPR-R____N3__Scaled/2006-10-16_08_49_47.0/S20151/ADNI_130_S_0886_MR_MPR-R____N3__Scaled_Br_20070211002657559_S20151_I39288.nii'], ['130_S_0969', '/home/ubuntu/working/ADNI/130_S_0969/MPR____N3__Scaled/2007-11-07_13_13_01.0/S42414/ADNI_130_S_0969_MR_MPR____N3__Scaled_Br_20080224154049674_S42414_I92363.nii'], ['031_S_1066', '/home/ubuntu/working/ADNI/031_S_1066/MPR__GradWarp__B1_Correction__N3__Scaled/2006-12-04_12_03_05.0/S23507/ADNI_031_S_1066_MR_MPR__GradWarp__B1_Correction__N3__Scaled_Br_20080220103435137_S23507_I90916.nii'], ['136_S_0196', '/home/ubuntu/working/ADNI/136_S_0196/MPR____N3__Scaled_2/2006-05-01_11_18_56.0/S13831/ADNI_136_S_0196_MR_MPR____N3__Scaled_2_Br_20081008133847111_S13831_I119725.nii'], ['116_S_1232', '/home/ubuntu/working/ADNI/116_S_1232/MPR__GradWarp__B1_Correction__N3__Scaled/2008-01-30_12_15_13.0/S45145/ADNI_116_S_1232_MR_MPR__GradWarp__B1_Correction__N3__Scaled_Br_20080223173022273_S45145_I91912.nii'], ['130_S_0956', '/home/ubuntu/working/ADNI/130_S_0956/MPR____N3__Scaled/2006-11-06_09_40_12.0/S22511/ADNI_130_S_0956_MR_MPR____N3__Scaled_Br_20070210223200198_S22511_I39200.nii'], ['027_S_1082', '/home/ubuntu/working/ADNI/027_S_1082/MPR__GradWarp__B1_Correction__N3__Scaled/2006-12-13_14_18_44.0/S23987/ADNI_027_S_1082_MR_MPR__GradWarp__B1_Correction__N3__Scaled_Br_20070327155420107_S23987_I47186.nii'], ['005_S_0814', '/home/ubuntu/working/ADNI/005_S_0814/MPR__GradWarp__B1_Correction__N3__Scaled/2007-04-05_14_02_37.0/S29396/ADNI_005_S_0814_MR_MPR__GradWarp__B1_Correction__N3__Scaled_Br_20070918114601353_S29396_I73538.nii'], ['100_S_0015', '/home/ubuntu/working/ADNI/100_S_0015/MPR-R____N3__Scaled/2005-10-31_14_50_12.0/S8833/ADNI_100_S_0015_MR_MPR-R____N3__Scaled_Br_20061213152852376_S8833_I33046.nii'], ['136_S_0579', '/home/ubuntu/working/ADNI/136_S_0579/MPR-R____N3__Scaled/2006-07-10_11_45_57.0/S16545/ADNI_136_S_0579_MR_MPR-R____N3__Scaled_Br_20070215222116139_S16545_I40404.nii'], ['002_S_0413', '/home/ubuntu/working/ADNI/002_S_0413/MPR____N3__Scaled_2/2006-05-19_16_17_47.0/S14782/ADNI_002_S_0413_MR_MPR____N3__Scaled_2_Br_20081001114937668_S14782_I118675.nii'], ['018_S_0369', '/home/ubuntu/working/ADNI/018_S_0369/MPR____N3__Scaled_2/2006-05-11_16_19_12.0/S14343/ADNI_018_S_0369_MR_MPR____N3__Scaled_2_Br_20081001133930148_S14343_I118773.nii'], ['032_S_1169', '/home/ubuntu/working/ADNI/032_S_1169/MPR__GradWarp__B1_Correction__N3__Scaled/2008-01-17_12_55_45.0/S44666/ADNI_032_S_1169_MR_MPR__GradWarp__B1_Correction__N3__Scaled_Br_20080229162032629_S44666_I94476.nii'], ['023_S_1190', '/home/ubuntu/working/ADNI/023_S_1190/MPR__GradWarp__B1_Correction__N3__Scaled/2008-01-08_10_13_42.0/S44392/ADNI_023_S_1190_MR_MPR__GradWarp__B1_Correction__N3__Scaled_Br_20080124145245630_S44392_I88372.nii'], ['127_S_0393', '/home/ubuntu/working/ADNI/127_S_0393/MPR__GradWarp__B1_Correction__N3__Scaled/2006-05-24_14_06_36.0/S14896/ADNI_127_S_0393_MR_MPR__GradWarp__B1_Correction__N3__Scaled_Br_20070209172507581_S14896_I38790.nii'], ['027_S_1385', '/home/ubuntu/working/ADNI/027_S_1385/MPR__GradWarp__B1_Correction__N3__Scaled/2008-03-26_11_11_24.0/S47505/ADNI_027_S_1385_MR_MPR__GradWarp__B1_Correction__N3__Scaled_Br_20080408152926155_S47505_I101541.nii'], ['082_S_1256', '/home/ubuntu/working/ADNI/082_S_1256/MPR__GradWarp__B1_Correction__N3__Scaled/2007-02-23_11_15_35.0/S41769/ADNI_082_S_1256_MR_MPR__GradWarp__B1_Correction__N3__Scaled_Br_20071106102309794_S41769_I80880.nii'], ['130_S_0449', '/home/ubuntu/working/ADNI/130_S_0449/MPR-R____N3__Scaled/2006-08-16_10_41_17.0/S18012/ADNI_130_S_0449_MR_MPR-R____N3__Scaled_Br_20071110121628197_S18012_I81434.nii'], ['116_S_0649', '/home/ubuntu/working/ADNI/116_S_0649/MPR__GradWarp__B1_Correction__N3__Scaled/2007-02-21_14_44_54.0/S26946/ADNI_116_S_0649_MR_MPR__GradWarp__B1_Correction__N3__Scaled_Br_20070508155339881_S26946_I53823.nii'], ['023_S_0031', '/home/ubuntu/working/ADNI/023_S_0031/MPR__GradWarp__B1_Correction__N3__Scaled/2006-04-17_12_33_25.0/S13261/ADNI_023_S_0031_MR_MPR__GradWarp__B1_Correction__N3__Scaled_Br_20071113171515548_S13261_I81856.nii'], ['005_S_0324', '/home/ubuntu/working/ADNI/005_S_0324/MPR__GradWarp__B1_Correction__N3__Scaled/2007-05-09_10_27_32.0/S31973/ADNI_005_S_0324_MR_MPR__GradWarp__B1_Correction__N3__Scaled_Br_20070828100626599_S31973_I70611.nii'], ['023_S_1247', '/home/ubuntu/working/ADNI/023_S_1247/MPR__GradWarp__B1_Correction__N3__Scaled/2007-08-02_13_37_53.0/S36944/ADNI_023_S_1247_MR_MPR__GradWarp__B1_Correction__N3__Scaled_Br_20080116083958100_S36944_I87528.nii'], ['128_S_1148', '/home/ubuntu/working/ADNI/128_S_1148/MPR__GradWarp__B1_Correction__N3__Scaled/2008-01-17_17_38_40.0/S44724/ADNI_128_S_1148_MR_MPR__GradWarp__B1_Correction__N3__Scaled_Br_20080225183911605_S44724_I92619.nii'], ['136_S_0086', '/home/ubuntu/working/ADNI/136_S_0086/MPR-R____N3__Scaled/2006-10-30_13_14_20.0/S21509/ADNI_136_S_0086_MR_MPR-R____N3__Scaled_Br_20080224153208327_S21509_I92351.nii'], ['023_S_0376', '/home/ubuntu/working/ADNI/023_S_0376/MPR__GradWarp__B1_Correction__N3__Scaled/2007-03-20_09_11_10.0/S28518/ADNI_023_S_0376_MR_MPR__GradWarp__B1_Correction__N3__Scaled_Br_20070805131701599_S28518_I64800.nii'], ['027_S_0835', '/home/ubuntu/working/ADNI/027_S_0835/MPR__GradWarp__B1_Correction__N3__Scaled/2006-09-28_09_23_19.0/S19496/ADNI_027_S_0835_MR_MPR__GradWarp__B1_Correction__N3__Scaled_Br_20070109231952406_S19496_I35653.nii'], ['023_S_0058', '/home/ubuntu/working/ADNI/023_S_0058/MPR__GradWarp__B1_Correction__N3__Scaled/2006-06-13_11_13_49.0/S15504/ADNI_023_S_0058_MR_MPR__GradWarp__B1_Correction__N3__Scaled_Br_20061130135622775_S15504_I30979.nii'], ['126_S_0606', '/home/ubuntu/working/ADNI/126_S_0606/MPR__GradWarp__B1_Correction__N3__Scaled/2007-07-30_10_14_54.0/S36584/ADNI_126_S_0606_MR_MPR__GradWarp__B1_Correction__N3__Scaled_Br_20070912183441138_S36584_I72873.nii'], ['052_S_1250', '/home/ubuntu/working/ADNI/052_S_1250/MPR__GradWarp__B1_Correction__N3__Scaled/2007-09-05_09_50_16.0/S45105/ADNI_052_S_1250_MR_MPR__GradWarp__B1_Correction__N3__Scaled_Br_20080229180037939_S45105_I94579.nii'], ['094_S_1241', '/home/ubuntu/working/ADNI/094_S_1241/MPR__GradWarp__B1_Correction__N3__Scaled/2007-02-22_10_12_34.0/S27008/ADNI_094_S_1241_MR_MPR__GradWarp__B1_Correction__N3__Scaled_Br_20070807102309850_S27008_I65414.nii'], ['136_S_0195', '/home/ubuntu/working/ADNI/136_S_0195/MPR____N3__Scaled_2/2006-04-04_10_54_57.0/S12748/ADNI_136_S_0195_MR_MPR____N3__Scaled_2_Br_20081008133516751_S12748_I119721.nii'], ['005_S_0448', '/home/ubuntu/working/ADNI/005_S_0448/MPR__GradWarp__B1_Correction__N3__Scaled/2007-05-30_10_38_21.0/S32787/ADNI_005_S_0448_MR_MPR__GradWarp__B1_Correction__N3__Scaled_Br_20070904174004430_S32787_I71302.nii'], ['100_S_0190', '/home/ubuntu/working/ADNI/100_S_0190/MPR____N3__Scaled/2007-05-10_11_11_43.0/S32134/ADNI_100_S_0190_MR_MPR____N3__Scaled_Br_20071118115111622_S32134_I82556.nii'], ['037_S_0303', '/home/ubuntu/working/ADNI/037_S_0303/MPR__GradWarp__B1_Correction__N3__Scaled/2006-10-20_11_35_02.0/S20560/ADNI_037_S_0303_MR_MPR__GradWarp__B1_Correction__N3__Scaled_Br_20080125111736742_S20560_I88540.nii'], ['032_S_1101', '/home/ubuntu/working/ADNI/032_S_1101/MPR__GradWarp__B1_Correction__N3__Scaled/2007-05-23_15_49_11.0/S32608/ADNI_032_S_1101_MR_MPR__GradWarp__B1_Correction__N3__Scaled_Br_20090313094651156_S32608_I138797.nii'], ['018_S_0633', '/home/ubuntu/working/ADNI/018_S_0633/MPR____N3__Scaled/2007-07-17_13_33_03.0/S35155/ADNI_018_S_0633_MR_MPR____N3__Scaled_Br_20070904192251723_S35155_I71451.nii'], ['027_S_1081', '/home/ubuntu/working/ADNI/027_S_1081/MPR__GradWarp__B1_Correction__N3__Scaled/2007-02-08_09_33_53.0/S26054/ADNI_027_S_1081_MR_MPR__GradWarp__B1_Correction__N3__Scaled_Br_20070327153912557_S26054_I47177.nii'], ['037_S_1225', '/home/ubuntu/working/ADNI/037_S_1225/MPR__GradWarp__B1_Correction__N3__Scaled/2008-02-11_09_37_56.0/S45505/ADNI_037_S_1225_MR_MPR__GradWarp__B1_Correction__N3__Scaled_Br_20080223124617062_S45505_I91708.nii'], ['023_S_1262', '/home/ubuntu/working/ADNI/023_S_1262/MPR__GradWarp__B1_Correction__N3__Scaled/2007-09-04_12_25_59.0/S38823/ADNI_023_S_1262_MR_MPR__GradWarp__B1_Correction__N3__Scaled_Br_20071006120037219_S38823_I77044.nii'], ['023_S_0139', '/home/ubuntu/working/ADNI/023_S_0139/MPR__GradWarp__B1_Correction__N3__Scaled/2006-07-28_16_20_32.0/S17389/ADNI_023_S_0139_MR_MPR__GradWarp__B1_Correction__N3__Scaled_Br_20061201152812262_S17389_I31326.nii'], ['023_S_0030', '/home/ubuntu/working/ADNI/023_S_0030/MPR__GradWarp__B1_Correction__N3__Scaled/2005-10-26_09_01_07.0/S8908/ADNI_023_S_0030_MR_MPR__GradWarp__B1_Correction__N3__Scaled_Br_20061204153813354_S8908_I31623.nii'], ['100_S_1286', '/home/ubuntu/working/ADNI/100_S_1286/MPR-R____N3__Scaled/2007-08-30_10_43_17.0/S38792/ADNI_100_S_1286_MR_MPR-R____N3__Scaled_Br_20071103131952213_S38792_I80679.nii'], ['136_S_0194', '/home/ubuntu/working/ADNI/136_S_0194/MPR____N3__Scaled_2/2006-04-24_10_52_24.0/S13723/ADNI_136_S_0194_MR_MPR____N3__Scaled_2_Br_20081008133237201_S13723_I119718.nii'], ['027_S_1387', '/home/ubuntu/working/ADNI/027_S_1387/MPR__GradWarp__B1_Correction__N3__Scaled/2008-03-13_13_37_38.0/S47010/ADNI_027_S_1387_MR_MPR__GradWarp__B1_Correction__N3__Scaled_Br_20080408153947927_S47010_I101566.nii'], ['027_S_0307', '/home/ubuntu/working/ADNI/027_S_0307/MPR__GradWarp__B1_Correction__N3__Scaled/2006-05-11_16_31_47.0/S14336/ADNI_027_S_0307_MR_MPR__GradWarp__B1_Correction__N3__Scaled_Br_20061222185350351_S14336_I34168.nii'], ['012_S_0689', '/home/ubuntu/working/ADNI/012_S_0689/MPR-R____N3__Scaled/2006-07-19_15_39_21.0/S16978/ADNI_012_S_0689_MR_MPR-R____N3__Scaled_Br_20070711164229152_S16978_I59174.nii'], ['094_S_1293', '/home/ubuntu/working/ADNI/094_S_1293/MPR__GradWarp__B1_Correction__N3__Scaled/2007-03-19_09_31_30.0/S28405/ADNI_094_S_1293_MR_MPR__GradWarp__B1_Correction__N3__Scaled_Br_20080117114821860_S28405_I87748.nii'], ['023_S_1126', '/home/ubuntu/working/ADNI/023_S_1126/MPR__GradWarp__B1_Correction__N3__Scaled/2007-06-22_12_18_27.0/S33939/ADNI_023_S_1126_MR_MPR__GradWarp__B1_Correction__N3__Scaled_Br_20080131110911868_S33939_I89071.nii'], ['027_S_1277', '/home/ubuntu/working/ADNI/027_S_1277/MPR__GradWarp__B1_Correction__N3__Scaled/2008-02-18_10_11_45.0/S45806/ADNI_027_S_1277_MR_MPR__GradWarp__B1_Correction__N3__Scaled_Br_20080229160633028_S45806_I94458.nii'], ['002_S_0954', '/home/ubuntu/working/ADNI/002_S_0954/MPR____N3__Scaled_2/2006-11-08_08_00_48.0/S22322/ADNI_002_S_0954_MR_MPR____N3__Scaled_2_Br_20081001120719118_S22322_I118694.nii'], ['012_S_1321', '/home/ubuntu/working/ADNI/012_S_1321/MPR____N3__Scaled/2007-03-12_14_19_11.0/S28037/ADNI_012_S_1321_MR_MPR____N3__Scaled_Br_20070920164354214_S28037_I73895.nii'], ['053_S_0507', '/home/ubuntu/working/ADNI/053_S_0507/MPR____N3__Scaled_2/2007-06-11_11_19_48.0/S33392/ADNI_053_S_0507_MR_MPR____N3__Scaled_2_Br_20081003141216462_S33392_I119158.nii'], ['037_S_0501', '/home/ubuntu/working/ADNI/037_S_0501/MPR__GradWarp__B1_Correction__N3__Scaled/2007-01-05_13_05_25.0/S24751/ADNI_037_S_0501_MR_MPR__GradWarp__B1_Correction__N3__Scaled_Br_20080108145948877_S24751_I86801.nii'], ['023_S_0855', '/home/ubuntu/working/ADNI/023_S_0855/MPR__GradWarp__B1_Correction__N3__Scaled/2007-09-05_13_50_48.0/S38875/ADNI_023_S_0855_MR_MPR__GradWarp__B1_Correction__N3__Scaled_Br_20071006114755886_S38875_I77026.nii'], ['002_S_1268', '/home/ubuntu/working/ADNI/002_S_1268/MPR-R____N3__Scaled/2007-03-07_07_58_51.0/S27680/ADNI_002_S_1268_MR_MPR-R____N3__Scaled_Br_20070806174712233_S27680_I65268.nii'], ['005_S_0572', '/home/ubuntu/working/ADNI/005_S_0572/MPR-R__GradWarp__B1_Correction__N3__Scaled/2006-12-27_14_37_18.0/S24527/ADNI_005_S_0572_MR_MPR-R__GradWarp__B1_Correction__N3__Scaled_Br_20071028192123921_S24527_I79141.nii'], ['016_S_1117', '/home/ubuntu/working/ADNI/016_S_1117/MPR__GradWarp__B1_Correction__N3__Scaled/2007-12-21_15_55_32.0/S44329/ADNI_016_S_1117_MR_MPR__GradWarp__B1_Correction__N3__Scaled_Br_20080220095943547_S44329_I90866.nii'], ['018_S_0406', '/home/ubuntu/working/ADNI/018_S_0406/MPR____N3__Scaled/2006-06-26_15_42_08.0/S15863/ADNI_018_S_0406_MR_MPR____N3__Scaled_Br_20070101220659180_S15863_I35024.nii'], ['002_S_1070', '/home/ubuntu/working/ADNI/002_S_1070/MPR-R____N3__Scaled/2007-06-07_13_31_48.0/S33354/ADNI_002_S_1070_MR_MPR-R____N3__Scaled_Br_20070713123436036_S33354_I60050.nii'], ['136_S_0184', '/home/ubuntu/working/ADNI/136_S_0184/MPR-R____N3__Scaled/2007-03-20_10_46_32.0/S28430/ADNI_136_S_0184_MR_MPR-R____N3__Scaled_Br_20070819190556867_S28430_I69136.nii'], ['023_S_0604', '/home/ubuntu/working/ADNI/023_S_0604/MPR__GradWarp__B1_Correction__N3__Scaled/2006-12-12_14_01_57.0/S23944/ADNI_023_S_0604_MR_MPR__GradWarp__B1_Correction__N3__Scaled_Br_20071113180411587_S23944_I81928.nii'], ['052_S_1251', '/home/ubuntu/working/ADNI/052_S_1251/MPR__GradWarp__B1_Correction__N3__Scaled/2007-03-09_11_29_47.0/S27758/ADNI_052_S_1251_MR_MPR__GradWarp__B1_Correction__N3__Scaled_Br_20070727111631299_S27758_I62272.nii'], ['023_S_0926', '/home/ubuntu/working/ADNI/023_S_0926/MPR__GradWarp__B1_Correction__N3__Scaled/2007-10-23_10_09_03.0/S41848/ADNI_023_S_0926_MR_MPR__GradWarp__B1_Correction__N3__Scaled_Br_20071113181008708_S41848_I81937.nii'], ['136_S_0429', '/home/ubuntu/working/ADNI/136_S_0429/MPR____N3__Scaled_2/2006-06-27_10_25_33.0/S15882/ADNI_136_S_0429_MR_MPR____N3__Scaled_2_Br_20081008134614922_S15882_I119733.nii'], ['051_S_1072', '/home/ubuntu/working/ADNI/051_S_1072/MPR-R__GradWarp__B1_Correction__N3__Scaled/2008-02-19_09_50_20.0/S45850/ADNI_051_S_1072_MR_MPR-R__GradWarp__B1_Correction__N3__Scaled_Br_20080229174934136_S45850_I94554.nii'], ['027_S_0417', '/home/ubuntu/working/ADNI/027_S_0417/MPR__GradWarp__B1_Correction__N3__Scaled/2006-05-31_11_31_53.0/S15050/ADNI_027_S_0417_MR_MPR__GradWarp__B1_Correction__N3__Scaled_Br_20061222200312461_S15050_I34213.nii'], ['051_S_1331', '/home/ubuntu/working/ADNI/051_S_1331/MPR__GradWarp__B1_Correction__N3__Scaled/2008-07-07_15_32_12.0/S53103/ADNI_051_S_1331_MR_MPR__GradWarp__B1_Correction__N3__Scaled_Br_20081014085902488_S53103_I120544.nii'], ['007_S_1222', '/home/ubuntu/working/ADNI/007_S_1222/MPR__GradWarp__B1_Correction__N3__Scaled/2008-02-22_08_51_18.0/S46098/ADNI_007_S_1222_MR_MPR__GradWarp__B1_Correction__N3__Scaled_Br_20080307174145562_S46098_I96052.nii'], ['116_S_0382', '/home/ubuntu/working/ADNI/116_S_0382/MPR__GradWarp__B1_Correction__N3__Scaled/2007-06-13_11_24_40.0/S33693/ADNI_116_S_0382_MR_MPR__GradWarp__B1_Correction__N3__Scaled_Br_20080117114012937_S33693_I87739.nii'], ['023_S_0963', '/home/ubuntu/working/ADNI/023_S_0963/MPR__GradWarp__B1_Correction__N3__Scaled/2007-10-11_12_48_36.0/S41289/ADNI_023_S_0963_MR_MPR__GradWarp__B1_Correction__N3__Scaled_Br_20071115093426943_S41289_I82205.nii'], ['012_S_1009', '/home/ubuntu/working/ADNI/012_S_1009/MPR____N3__Scaled/2007-05-30_14_24_22.0/S32890/ADNI_012_S_1009_MR_MPR____N3__Scaled_Br_20070904181516206_S32890_I71351.nii'], ['116_S_1249', '/home/ubuntu/working/ADNI/116_S_1249/MPR__GradWarp__B1_Correction__N3__Scaled/2007-08-22_11_39_00.0/S38250/ADNI_116_S_1249_MR_MPR__GradWarp__B1_Correction__N3__Scaled_Br_20071103133915626_S38250_I80700.nii'], ['136_S_0300', '/home/ubuntu/working/ADNI/136_S_0300/MPR-R____N3__Scaled/2006-06-07_09_09_23.0/S15349/ADNI_136_S_0300_MR_MPR-R____N3__Scaled_Br_20070215211009479_S15349_I40352.nii'], ['130_S_0505', '/home/ubuntu/working/ADNI/130_S_0505/MPR____N3__Scaled/2006-10-18_09_43_32.0/S20396/ADNI_130_S_0505_MR_MPR____N3__Scaled_Br_20070210222802960_S20396_I39197.nii'], ['067_S_1253', '/home/ubuntu/working/ADNI/067_S_1253/MPR__GradWarp__B1_Correction__N3__Scaled/2007-09-13_08_17_47.0/S39399/ADNI_067_S_1253_MR_MPR__GradWarp__B1_Correction__N3__Scaled_Br_20071101182438287_S39399_I80303.nii'], ['094_S_1267', '/home/ubuntu/working/ADNI/094_S_1267/MPR__GradWarp__B1_Correction__N3__Scaled/2007-09-24_09_54_16.0/S40752/ADNI_094_S_1267_MR_MPR__GradWarp__B1_Correction__N3__Scaled_Br_20071101193436306_S40752_I80406.nii'], ['116_S_0752', '/home/ubuntu/working/ADNI/116_S_0752/MPR__GradWarp__B1_Correction__N3__Scaled/2007-02-16_15_52_33.0/S26819/ADNI_116_S_0752_MR_MPR__GradWarp__B1_Correction__N3__Scaled_Br_20080207103351676_S26819_I89764.nii'], ['082_S_0928', '/home/ubuntu/working/ADNI/082_S_0928/MPR__GradWarp__B1_Correction__N3__Scaled/2006-10-16_12_54_09.0/S50770/ADNI_082_S_0928_MR_MPR__GradWarp__B1_Correction__N3__Scaled_Br_20080613154501166_S50770_I109533.nii'], ['067_S_0290', '/home/ubuntu/working/ADNI/067_S_0290/MPR__GradWarp__B1_Correction__N3__Scaled/2007-02-09_13_23_49.0/S26390/ADNI_067_S_0290_MR_MPR__GradWarp__B1_Correction__N3__Scaled_Br_20071229184500975_S26390_I86402.nii'], ['116_S_0392', '/home/ubuntu/working/ADNI/116_S_0392/MPR__GradWarp__B1_Correction__N3__Scaled/2006-12-04_16_37_11.0/S23631/ADNI_116_S_0392_MR_MPR__GradWarp__B1_Correction__N3__Scaled_Br_20080206163405584_S23631_I89653.nii'], ['127_S_0844', '/home/ubuntu/working/ADNI/127_S_0844/MPR__GradWarp__B1_Correction__N3__Scaled/2007-10-26_13_23_34.0/S42006/ADNI_127_S_0844_MR_MPR__GradWarp__B1_Correction__N3__Scaled_Br_20071119095745044_S42006_I82651.nii'], ['005_S_0602', '/home/ubuntu/working/ADNI/005_S_0602/MPR__GradWarp__B1_Correction__N3__Scaled/2007-08-08_10_47_08.0/S37070/ADNI_005_S_0602_MR_MPR__GradWarp__B1_Correction__N3__Scaled_Br_20070921134517179_S37070_I74203.nii'], ['016_S_1121', '/home/ubuntu/working/ADNI/016_S_1121/MPR__GradWarp__B1_Correction__N3__Scaled/2007-01-11_14_42_07.0/S25229/ADNI_016_S_1121_MR_MPR__GradWarp__B1_Correction__N3__Scaled_Br_20071229175133442_S25229_I86327.nii'], ['018_S_0425', '/home/ubuntu/working/ADNI/018_S_0425/MPR____N3__Scaled/2006-06-19_16_00_21.0/S15637/ADNI_018_S_0425_MR_MPR____N3__Scaled_Br_20090326124223290_S15637_I139891.nii'], ['002_S_1261', '/home/ubuntu/working/ADNI/002_S_1261/MPR____N3__Scaled/2007-08-30_13_24_01.0/S38705/ADNI_002_S_1261_MR_MPR____N3__Scaled_Br_20071028191714936_S38705_I79135.nii'], ['023_S_0388', '/home/ubuntu/working/ADNI/023_S_0388/MPR__GradWarp__B1_Correction__N3__Scaled/2006-05-04_15_27_08.0/S14001/ADNI_023_S_0388_MR_MPR__GradWarp__B1_Correction__N3__Scaled_Br_20061203120855584_S14001_I31446.nii'], ['116_S_0487', '/home/ubuntu/working/ADNI/116_S_0487/MPR__GradWarp__B1_Correction__N3__Scaled/2007-06-18_09_45_37.0/S33717/ADNI_116_S_0487_MR_MPR__GradWarp__B1_Correction__N3__Scaled_Br_20080225094838615_S33717_I92420.nii'], ['016_S_1326', '/home/ubuntu/working/ADNI/016_S_1326/MPR__GradWarp__B1_Correction__N3__Scaled/2007-04-02_11_56_41.0/S29365/ADNI_016_S_1326_MR_MPR__GradWarp__B1_Correction__N3__Scaled_Br_20071229180439589_S29365_I86345.nii'], ['130_S_0423', '/home/ubuntu/working/ADNI/130_S_0423/MPR-R____N3__Scaled/2006-07-06_10_53_39.0/S16421/ADNI_130_S_0423_MR_MPR-R____N3__Scaled_Br_20070210195537624_S16421_I39104.nii'], ['032_S_0677', '/home/ubuntu/working/ADNI/032_S_0677/MPR__GradWarp__B1_Correction__N3__Scaled/2007-07-19_10_03_36.0/S35547/ADNI_032_S_0677_MR_MPR__GradWarp__B1_Correction__N3__Scaled_Br_20070917105517823_S35547_I73347.nii'], ['012_S_1292', '/home/ubuntu/working/ADNI/012_S_1292/MPR____N3__Scaled/2007-03-19_14_32_48.0/S28409/ADNI_012_S_1292_MR_MPR____N3__Scaled_Br_20070923134730116_S28409_I74691.nii'], ['007_S_1206', '/home/ubuntu/working/ADNI/007_S_1206/MPR__GradWarp__B1_Correction__N3__Scaled/2008-02-22_11_39_38.0/S46079/ADNI_007_S_1206_MR_MPR__GradWarp__B1_Correction__N3__Scaled_Br_20080307172819103_S46079_I96034.nii'], ['127_S_0622', '/home/ubuntu/working/ADNI/127_S_0622/MPR__GradWarp__B1_Correction__N3__Scaled/2006-06-29_13_01_25.0/S15986/ADNI_127_S_0622_MR_MPR__GradWarp__B1_Correction__N3__Scaled_Br_20070922104550551_S15986_I74496.nii'], ['021_S_0332', '/home/ubuntu/working/ADNI/021_S_0332/MPR__GradWarp__B1_Correction__N3__Scaled/2007-04-19_14_20_08.0/S37147/ADNI_021_S_0332_MR_MPR__GradWarp__B1_Correction__N3__Scaled_Br_20071110114357593_S37147_I81387.nii'], ['005_S_0553', '/home/ubuntu/working/ADNI/005_S_0553/MPR__GradWarp__B1_Correction__N3__Scaled/2007-01-04_10_16_08.0/S24693/ADNI_005_S_0553_MR_MPR__GradWarp__B1_Correction__N3__Scaled_Br_20070816103623576_S24693_I67899.nii'], ['018_S_0335', '/home/ubuntu/working/ADNI/018_S_0335/MPR____N3__Scaled/2006-05-31_16_04_30.0/S15247/ADNI_018_S_0335_MR_MPR____N3__Scaled_Br_20070101215011237_S15247_I35014.nii'], ['023_S_1046', '/home/ubuntu/working/ADNI/023_S_1046/MPR__GradWarp__B1_Correction__N3__Scaled/2007-11-06_09_02_19.0/S42331/ADNI_023_S_1046_MR_MPR__GradWarp__B1_Correction__N3__Scaled_Br_20080124114448930_S42331_I88270.nii'], ['002_S_0559', '/home/ubuntu/working/ADNI/002_S_0559/MPR-R____N3__Scaled/2007-10-18_17_06_13.0/S41825/ADNI_002_S_0559_MR_MPR-R____N3__Scaled_Br_20071115083403092_S41825_I82102.nii']]\n"
     ]
    }
   ],
   "source": [
    "#loading images in\n",
    "cwd = os.getcwd()#return current working directory\n",
    "patient_id = os.listdir('ADNI') #create a list that encompasses all the images we downloaded\n",
    "filename = glob.glob('data/' + '*/data_batch*')\n",
    "\n",
    "#import csv files\n",
    "datacsv = np.genfromtxt('ADNI1_Complete_1Yr_3T_11_04_2018.csv', delimiter = ',', encoding = None, dtype = None)\n",
    "\n",
    "#modify csv files\n",
    "datacsv = np.delete(datacsv, 0, 1)\n",
    "datacsv = np.delete(datacsv, np.s_[4:12], 1)\n",
    "datacsv = np.delete(datacsv, 0, 0)\n",
    "    #rename csv group into numbers\n",
    "for i in range(datacsv.shape[0]):\n",
    "    if datacsv[i][1] == '\"MCI\"':\n",
    "        datacsv[i][1] = 0\n",
    "    elif datacsv[i][1] == '\"AD\"':\n",
    "        datacsv[i][1] = 1\n",
    "    elif datacsv[i][1] == '\"CN\"':\n",
    "        datacsv[i][1] = 2\n",
    "#filter out repeated patient in csv by saving their first sMRI and its corresponding infos\n",
    "pat_id = datacsv[0][0]\n",
    "flag_0 = 0\n",
    "datacsv_new = datacsv.copy()#[patient_id, group, sex, age]\n",
    "deleted_line = 0\n",
    "for i in range(datacsv.shape[0]):\n",
    "    if (pat_id == datacsv[i][0]) & (flag_0 >= 1):\n",
    "        datacsv_new = np.delete(datacsv_new, i - deleted_line, 0)\n",
    "        deleted_line = deleted_line + 1\n",
    "    elif (pat_id == datacsv[i][0]) & (flag_0 == 0):\n",
    "        flag_0 = flag_0 + 1\n",
    "    elif (pat_id != datacsv[i][0]):\n",
    "        flag_0 = 1\n",
    "        pat_id = datacsv[i][0]\n",
    "        \n",
    "        \n",
    "#Gaining sMRI        \n",
    "    #datapath: obtain the path to reach each patient's sMRI \n",
    "datapath = [] #[patient_id, path]\n",
    "for patient in patient_id:\n",
    "    flag = 0\n",
    "    for root, dirs, files in os.walk(cwd + \"/ADNI/\" + patient):         \n",
    "        for file in files:\n",
    "            if file.endswith(\".nii\"):\n",
    "                if flag < 1:\n",
    "                    datapath.append([patient, os.path.join(root, file)])\n",
    "                    flag = flag + 1\n",
    "                    \n",
    "    #sMRIs were loaded and reshaped into the targeted dim[256, 256, 160] \n",
    "print(datapath)"
   ]
  },
  {
   "cell_type": "code",
   "execution_count": 11,
   "metadata": {},
   "outputs": [
    {
     "name": "stdout",
     "output_type": "stream",
     "text": [
      "<class 'numpy.ndarray'>\n"
     ]
    }
   ],
   "source": [
    "dataimage = []#[patient_id, image_matrix_normalized]\n",
    "tar_dim = [256, 256, 160]\n",
    "for path in datapath:\n",
    "    mri = nib.load(path[1]).get_data()\n",
    "    mri = (mri - mri.min())/(mri.max() - mri.min())\n",
    "    mri = mri - mri.mean()\n",
    "    tar_mri = ndimage.zoom(mri,[tar_dim[0]/mri.shape[0],tar_dim[1]/mri.shape[1], tar_dim[2]/mri.shape[2]], order = 1)\n",
    "    dataimage.append([path[0],tar_mri])\n",
    "\n",
    "dataimage = sorted(dataimage, key=itemgetter(0), reverse=True)\n"
   ]
  },
  {
   "cell_type": "code",
   "execution_count": null,
   "metadata": {},
   "outputs": [],
   "source": [
    "#save the sMRIs and their corresponding csv file (both in txt format) to the GPU\n",
    "with open(\"dataimage_arr.txt\", \"wb\") as fp:\n",
    "    pickle.dump(dataimage, fp)\n",
    "with open(\"datacsv_new_arr.txt\", \"wb\") as fp:\n",
    "    pickle.dump(datacsv_new, fp)"
   ]
  }
 ],
 "metadata": {
  "kernelspec": {
   "display_name": "Python 3",
   "language": "python",
   "name": "python3"
  },
  "language_info": {
   "codemirror_mode": {
    "name": "ipython",
    "version": 3
   },
   "file_extension": ".py",
   "mimetype": "text/x-python",
   "name": "python",
   "nbconvert_exporter": "python",
   "pygments_lexer": "ipython3",
   "version": "3.6.5"
  }
 },
 "nbformat": 4,
 "nbformat_minor": 2
}
